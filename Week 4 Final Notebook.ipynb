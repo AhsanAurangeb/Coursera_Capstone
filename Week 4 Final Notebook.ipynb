{
    "cells": [
        {
            "cell_type": "markdown",
            "metadata": {
                "collapsed": true
            },
            "source": "# Week 4 Final Assignment"
        },
        {
            "cell_type": "markdown",
            "metadata": {},
            "source": "### Opening a New Shopping Mall in Kuala Lumpur, Malaysia\n\n- Build a dataframe of neighborhoods in Kuala Lumpur, Malaysia by web scraping the data from Wikipedia page\n- Get the geographical coordinates of the neighborhoods\n- Obtain the venue data for the neighborhoods from Foursquare API\n- Explore and cluster the neighborhoods\n- Select the best cluster to open a new shopping mall\n"
        },
        {
            "cell_type": "markdown",
            "metadata": {},
            "source": "## 1. Import Libraries"
        },
        {
            "cell_type": "code",
            "execution_count": 12,
            "metadata": {},
            "outputs": [],
            "source": "# !conda install -c conda-forge geopy --yes"
        },
        {
            "cell_type": "code",
            "execution_count": 13,
            "metadata": {},
            "outputs": [],
            "source": "# !conda install -c conda-forge folium=0.5.0 --yes"
        },
        {
            "cell_type": "code",
            "execution_count": 28,
            "metadata": {},
            "outputs": [
                {
                    "name": "stdout",
                    "output_type": "stream",
                    "text": "Libraries imported.\n"
                }
            ],
            "source": "import numpy as np # library to handle data in a vectorized manner\n\nimport pandas as pd # library for data analsysis\npd.set_option('display.max_columns', None)\npd.set_option('display.max_rows', None)\n\nimport json # library to handle JSON files\n\n#!conda install -c conda-forge geopy --yes # uncomment this line if you haven't completed the Foursquare API lab\nfrom geopy.geocoders import Nominatim # convert an address into latitude and longitude values\n\nimport requests # library to handle requests\nfrom pandas.io.json import json_normalize # tranform JSON file into a pandas dataframe\n\n# Matplotlib and associated plotting modules\nimport matplotlib.cm as cm\nimport matplotlib.colors as colors\n\n# import k-means from clustering stage\nfrom sklearn.cluster import KMeans\n\n#!conda install -c conda-forge folium=0.5.0 --yes # uncomment this line if you haven't completed the Foursquare API lab\nimport folium # map rendering library\n\nprint('Libraries imported.')"
        },
        {
            "cell_type": "markdown",
            "metadata": {},
            "source": "## 2. Scrap data from Wikipedia page into a DataFrame"
        },
        {
            "cell_type": "code",
            "execution_count": 29,
            "metadata": {},
            "outputs": [],
            "source": "# send the GET request\ndata = requests.get(\"https://en.wikipedia.org/wiki/Category:Suburbs_in_Kuala_Lumpur\").text"
        },
        {
            "cell_type": "code",
            "execution_count": 30,
            "metadata": {},
            "outputs": [],
            "source": "# parse data from the html into a beautifulsoup object\nfrom bs4 import BeautifulSoup\nsoup = BeautifulSoup(data, 'html.parser')"
        },
        {
            "cell_type": "code",
            "execution_count": 31,
            "metadata": {},
            "outputs": [],
            "source": "# create a list to store neighborhood data\nneighborhoodList = []"
        },
        {
            "cell_type": "code",
            "execution_count": 32,
            "metadata": {},
            "outputs": [],
            "source": "# append the data into the list\nfor row in soup.find_all(\"div\", class_=\"mw-category\")[0].findAll(\"li\"):\n    neighborhoodList.append(row.text)"
        },
        {
            "cell_type": "code",
            "execution_count": 33,
            "metadata": {},
            "outputs": [
                {
                    "data": {
                        "text/html": "<div>\n<style scoped>\n    .dataframe tbody tr th:only-of-type {\n        vertical-align: middle;\n    }\n\n    .dataframe tbody tr th {\n        vertical-align: top;\n    }\n\n    .dataframe thead th {\n        text-align: right;\n    }\n</style>\n<table border=\"1\" class=\"dataframe\">\n  <thead>\n    <tr style=\"text-align: right;\">\n      <th></th>\n      <th>Neighborhood</th>\n    </tr>\n  </thead>\n  <tbody>\n    <tr>\n      <th>0</th>\n      <td>Alam Damai</td>\n    </tr>\n    <tr>\n      <th>1</th>\n      <td>Ampang, Kuala Lumpur</td>\n    </tr>\n    <tr>\n      <th>2</th>\n      <td>Bandar Menjalara</td>\n    </tr>\n    <tr>\n      <th>3</th>\n      <td>Bandar Sri Permaisuri</td>\n    </tr>\n    <tr>\n      <th>4</th>\n      <td>Bandar Tasik Selatan</td>\n    </tr>\n  </tbody>\n</table>\n</div>",
                        "text/plain": "            Neighborhood\n0             Alam Damai\n1   Ampang, Kuala Lumpur\n2       Bandar Menjalara\n3  Bandar Sri Permaisuri\n4   Bandar Tasik Selatan"
                    },
                    "execution_count": 33,
                    "metadata": {},
                    "output_type": "execute_result"
                }
            ],
            "source": "# create a new DataFrame from the list\nkl_df = pd.DataFrame({\"Neighborhood\": neighborhoodList})\n\nkl_df.head()"
        },
        {
            "cell_type": "code",
            "execution_count": 34,
            "metadata": {},
            "outputs": [
                {
                    "data": {
                        "text/plain": "(71, 1)"
                    },
                    "execution_count": 34,
                    "metadata": {},
                    "output_type": "execute_result"
                }
            ],
            "source": "# print the number of rows of the dataframe\nkl_df.shape"
        },
        {
            "cell_type": "markdown",
            "metadata": {},
            "source": "## 3. Get the geographical coordinates"
        },
        {
            "cell_type": "code",
            "execution_count": 35,
            "metadata": {},
            "outputs": [],
            "source": "# define a function to get coordinates\ndef get_latlng(neighborhood):\n    # initialize your variable to None\n    lat_lng_coords = None\n    # loop until you get the coordinates\n    while(lat_lng_coords is None):\n        g = geocoder.arcgis('{}, Kuala Lumpur, Malaysia'.format(neighborhood))\n        lat_lng_coords = g.latlng\n    return lat_lng_coords"
        },
        {
            "cell_type": "code",
            "execution_count": 36,
            "metadata": {},
            "outputs": [
                {
                    "ename": "NameError",
                    "evalue": "name 'geocoder' is not defined",
                    "output_type": "error",
                    "traceback": [
                        "\u001b[0;31m---------------------------------------------------------------------------\u001b[0m",
                        "\u001b[0;31mNameError\u001b[0m                                 Traceback (most recent call last)",
                        "\u001b[0;32m<ipython-input-36-d19e49b24755>\u001b[0m in \u001b[0;36m<module>\u001b[0;34m\u001b[0m\n\u001b[1;32m      1\u001b[0m \u001b[0;31m# call the function to get the coordinates, store in a new list using list comprehension\u001b[0m\u001b[0;34m\u001b[0m\u001b[0;34m\u001b[0m\u001b[0;34m\u001b[0m\u001b[0m\n\u001b[0;32m----> 2\u001b[0;31m \u001b[0mcoords\u001b[0m \u001b[0;34m=\u001b[0m \u001b[0;34m[\u001b[0m \u001b[0mget_latlng\u001b[0m\u001b[0;34m(\u001b[0m\u001b[0mneighborhood\u001b[0m\u001b[0;34m)\u001b[0m \u001b[0;32mfor\u001b[0m \u001b[0mneighborhood\u001b[0m \u001b[0;32min\u001b[0m \u001b[0mkl_df\u001b[0m\u001b[0;34m[\u001b[0m\u001b[0;34m\"Neighborhood\"\u001b[0m\u001b[0;34m]\u001b[0m\u001b[0;34m.\u001b[0m\u001b[0mtolist\u001b[0m\u001b[0;34m(\u001b[0m\u001b[0;34m)\u001b[0m \u001b[0;34m]\u001b[0m\u001b[0;34m\u001b[0m\u001b[0;34m\u001b[0m\u001b[0m\n\u001b[0m",
                        "\u001b[0;32m<ipython-input-36-d19e49b24755>\u001b[0m in \u001b[0;36m<listcomp>\u001b[0;34m(.0)\u001b[0m\n\u001b[1;32m      1\u001b[0m \u001b[0;31m# call the function to get the coordinates, store in a new list using list comprehension\u001b[0m\u001b[0;34m\u001b[0m\u001b[0;34m\u001b[0m\u001b[0;34m\u001b[0m\u001b[0m\n\u001b[0;32m----> 2\u001b[0;31m \u001b[0mcoords\u001b[0m \u001b[0;34m=\u001b[0m \u001b[0;34m[\u001b[0m \u001b[0mget_latlng\u001b[0m\u001b[0;34m(\u001b[0m\u001b[0mneighborhood\u001b[0m\u001b[0;34m)\u001b[0m \u001b[0;32mfor\u001b[0m \u001b[0mneighborhood\u001b[0m \u001b[0;32min\u001b[0m \u001b[0mkl_df\u001b[0m\u001b[0;34m[\u001b[0m\u001b[0;34m\"Neighborhood\"\u001b[0m\u001b[0;34m]\u001b[0m\u001b[0;34m.\u001b[0m\u001b[0mtolist\u001b[0m\u001b[0;34m(\u001b[0m\u001b[0;34m)\u001b[0m \u001b[0;34m]\u001b[0m\u001b[0;34m\u001b[0m\u001b[0;34m\u001b[0m\u001b[0m\n\u001b[0m",
                        "\u001b[0;32m<ipython-input-35-442d7e0caa32>\u001b[0m in \u001b[0;36mget_latlng\u001b[0;34m(neighborhood)\u001b[0m\n\u001b[1;32m      5\u001b[0m     \u001b[0;31m# loop until you get the coordinates\u001b[0m\u001b[0;34m\u001b[0m\u001b[0;34m\u001b[0m\u001b[0;34m\u001b[0m\u001b[0m\n\u001b[1;32m      6\u001b[0m     \u001b[0;32mwhile\u001b[0m\u001b[0;34m(\u001b[0m\u001b[0mlat_lng_coords\u001b[0m \u001b[0;32mis\u001b[0m \u001b[0;32mNone\u001b[0m\u001b[0;34m)\u001b[0m\u001b[0;34m:\u001b[0m\u001b[0;34m\u001b[0m\u001b[0;34m\u001b[0m\u001b[0m\n\u001b[0;32m----> 7\u001b[0;31m         \u001b[0mg\u001b[0m \u001b[0;34m=\u001b[0m \u001b[0mgeocoder\u001b[0m\u001b[0;34m.\u001b[0m\u001b[0marcgis\u001b[0m\u001b[0;34m(\u001b[0m\u001b[0;34m'{}, Kuala Lumpur, Malaysia'\u001b[0m\u001b[0;34m.\u001b[0m\u001b[0mformat\u001b[0m\u001b[0;34m(\u001b[0m\u001b[0mneighborhood\u001b[0m\u001b[0;34m)\u001b[0m\u001b[0;34m)\u001b[0m\u001b[0;34m\u001b[0m\u001b[0;34m\u001b[0m\u001b[0m\n\u001b[0m\u001b[1;32m      8\u001b[0m         \u001b[0mlat_lng_coords\u001b[0m \u001b[0;34m=\u001b[0m \u001b[0mg\u001b[0m\u001b[0;34m.\u001b[0m\u001b[0mlatlng\u001b[0m\u001b[0;34m\u001b[0m\u001b[0;34m\u001b[0m\u001b[0m\n\u001b[1;32m      9\u001b[0m     \u001b[0;32mreturn\u001b[0m \u001b[0mlat_lng_coords\u001b[0m\u001b[0;34m\u001b[0m\u001b[0;34m\u001b[0m\u001b[0m\n",
                        "\u001b[0;31mNameError\u001b[0m: name 'geocoder' is not defined"
                    ]
                }
            ],
            "source": "# call the function to get the coordinates, store in a new list using list comprehension\ncoords = [ get_latlng(neighborhood) for neighborhood in kl_df[\"Neighborhood\"].tolist() ]"
        },
        {
            "cell_type": "code",
            "execution_count": null,
            "metadata": {},
            "outputs": [],
            "source": ""
        },
        {
            "cell_type": "code",
            "execution_count": null,
            "metadata": {},
            "outputs": [],
            "source": ""
        },
        {
            "cell_type": "code",
            "execution_count": null,
            "metadata": {},
            "outputs": [],
            "source": ""
        },
        {
            "cell_type": "code",
            "execution_count": null,
            "metadata": {},
            "outputs": [],
            "source": ""
        },
        {
            "cell_type": "code",
            "execution_count": 37,
            "metadata": {},
            "outputs": [
                {
                    "name": "stdout",
                    "output_type": "stream",
                    "text": "Solving environment: done\n\n# All requested packages already installed.\n\nSolving environment: done\n\n# All requested packages already installed.\n\n"
                }
            ],
            "source": "import requests # to handle requests\nimport pandas as pd # for data analsysis\nimport numpy as np # to handle data in a vectorized manner\n\n!conda install -c conda-forge geopy --yes \nfrom geopy.geocoders import Nominatim # module to convert an address into latitude and longitude values\n\n# libraries for displaying images\nfrom IPython.display import Image \nfrom IPython.core.display import HTML \n    \n#tranforming json file into a pandas dataframe library\nfrom pandas.io.json import json_normalize\n\n!conda install -c conda-forge folium=0.5.0 --yes\nimport folium # plotting library"
        },
        {
            "cell_type": "markdown",
            "metadata": {},
            "source": "# Define Foursquare Credentials"
        },
        {
            "cell_type": "code",
            "execution_count": 50,
            "metadata": {},
            "outputs": [
                {
                    "name": "stdout",
                    "output_type": "stream",
                    "text": "Your credentails:\nFoursquare_ID: 4FQQJE2LMGVLERRRE2BOFR1LQQR5ZEHFLTD1WRAFKOFT4TI0\nFoursquare_Secret:RCSNR5TH31NQRG2QYCHK101HRMTUZHBB2TSJ1CJU5UOGRXRQ\n"
                }
            ],
            "source": "ClIENT_ID = '4FQQJE2LMGVLERRRE2BOFR1LQQR5ZEHFLTD1WRAFKOFT4TI0' # your Foursquare ID\nClIENT_SECRET = 'RCSNR5TH31NQRG2QYCHK101HRMTUZHBB2TSJ1CJU5UOGRXRQ' # your Foursquare Secret\nVERSION = '20180604'\nLIMIT =30\nprint('Your credentails:')\nprint('Foursquare_ID: ' + ClIENT_ID)\nprint('Foursquare_Secret:' + ClIENT_SECRET)"
        },
        {
            "cell_type": "code",
            "execution_count": 51,
            "metadata": {},
            "outputs": [
                {
                    "name": "stdout",
                    "output_type": "stream",
                    "text": "43.653963 -79.387207\n"
                }
            ],
            "source": "# define the city and get its latitude & longitude \ncity = 'Toronto'\ngeolocator = Nominatim(user_agent=\"foursquare_agent\")\nlocation = geolocator.geocode(city)\nlatitude = location.latitude\nlongitude = location.longitude\nprint(latitude, longitude)"
        },
        {
            "cell_type": "markdown",
            "metadata": {},
            "source": "# Search for Hotels"
        },
        {
            "cell_type": "code",
            "execution_count": 52,
            "metadata": {},
            "outputs": [
                {
                    "data": {
                        "text/plain": "'https://api.foursquare.com/v2/venues/search?client_id=4FQQJE2LMGVLERRRE2BOFR1LQQR5ZEHFLTD1WRAFKOFT4TI0&client_secret=RCSNR5TH31NQRG2QYCHK101HRMTUZHBB2TSJ1CJU5UOGRXRQ&ll=43.653963,-79.387207&v=20180604&query=Hotel&radius=500&limit=30'"
                    },
                    "execution_count": 52,
                    "metadata": {},
                    "output_type": "execute_result"
                }
            ],
            "source": "# search for hotels\nsearch_query = 'Hotel'\nradius = 500\n\n# Define the corresponding URL\nurl = 'https://api.foursquare.com/v2/venues/search?client_id={}&client_secret={}&ll={},{}&v={}&query={}&radius={}&limit={}'\\\n.format(ClIENT_ID, ClIENT_SECRET, latitude, longitude, VERSION, search_query, radius, LIMIT)\nurl"
        },
        {
            "cell_type": "code",
            "execution_count": 53,
            "metadata": {},
            "outputs": [],
            "source": "# Send the GET Request and examine the results\nresults = requests.get(url).json()\n#results"
        },
        {
            "cell_type": "code",
            "execution_count": 54,
            "metadata": {},
            "outputs": [
                {
                    "data": {
                        "text/html": "<div>\n<style scoped>\n    .dataframe tbody tr th:only-of-type {\n        vertical-align: middle;\n    }\n\n    .dataframe tbody tr th {\n        vertical-align: top;\n    }\n\n    .dataframe thead th {\n        text-align: right;\n    }\n</style>\n<table border=\"1\" class=\"dataframe\">\n  <thead>\n    <tr style=\"text-align: right;\">\n      <th></th>\n      <th>categories</th>\n      <th>hasPerk</th>\n      <th>hierarchy</th>\n      <th>id</th>\n      <th>location.address</th>\n      <th>location.cc</th>\n      <th>location.city</th>\n      <th>location.country</th>\n      <th>location.crossStreet</th>\n      <th>location.distance</th>\n      <th>location.formattedAddress</th>\n      <th>location.labeledLatLngs</th>\n      <th>location.lat</th>\n      <th>location.lng</th>\n      <th>location.neighborhood</th>\n      <th>location.postalCode</th>\n      <th>location.state</th>\n      <th>name</th>\n      <th>referralId</th>\n      <th>venuePage.id</th>\n    </tr>\n  </thead>\n  <tbody>\n    <tr>\n      <th>0</th>\n      <td>[{'id': '4bf58dd8d48988d1fa931735', 'name': 'H...</td>\n      <td>False</td>\n      <td>NaN</td>\n      <td>4ab2d511f964a5209b6c20e3</td>\n      <td>123 Queen Street West</td>\n      <td>CA</td>\n      <td>Toronto</td>\n      <td>Canada</td>\n      <td>at York St.</td>\n      <td>390</td>\n      <td>[123 Queen Street West (at York St.), Toronto ...</td>\n      <td>[{'label': 'display', 'lat': 43.6511441, 'lng'...</td>\n      <td>43.651144</td>\n      <td>-79.384329</td>\n      <td>NaN</td>\n      <td>M5H 2M9</td>\n      <td>ON</td>\n      <td>Sheraton Centre Toronto Hotel</td>\n      <td>v-1574014409</td>\n      <td>NaN</td>\n    </tr>\n    <tr>\n      <th>1</th>\n      <td>[{'id': '4bf58dd8d48988d1e7931735', 'name': 'J...</td>\n      <td>False</td>\n      <td>NaN</td>\n      <td>4b68aed1f964a520de862be3</td>\n      <td>194 Queen St W</td>\n      <td>CA</td>\n      <td>Toronto</td>\n      <td>Canada</td>\n      <td>Queen &amp; St. Patrick</td>\n      <td>400</td>\n      <td>[194 Queen St W (Queen &amp; St. Patrick), Toronto...</td>\n      <td>[{'label': 'display', 'lat': 43.65050475544005...</td>\n      <td>43.650505</td>\n      <td>-79.388577</td>\n      <td>NaN</td>\n      <td>M5V 1Z1</td>\n      <td>ON</td>\n      <td>The Rex Hotel Jazz &amp; Blues Bar</td>\n      <td>v-1574014409</td>\n      <td>62225795</td>\n    </tr>\n    <tr>\n      <th>2</th>\n      <td>[{'id': '4bf58dd8d48988d1fa931735', 'name': 'H...</td>\n      <td>False</td>\n      <td>NaN</td>\n      <td>52ce14b0498e50457ce11780</td>\n      <td>108 Chestnut Street</td>\n      <td>CA</td>\n      <td>Toronto</td>\n      <td>Canada</td>\n      <td>Dundas St W</td>\n      <td>124</td>\n      <td>[108 Chestnut Street (Dundas St W), Toronto ON...</td>\n      <td>[{'label': 'display', 'lat': 43.6546083, 'lng'...</td>\n      <td>43.654608</td>\n      <td>-79.385942</td>\n      <td>NaN</td>\n      <td>M5G 1R3</td>\n      <td>ON</td>\n      <td>DoubleTree by Hilton Hotel Toronto Downtown</td>\n      <td>v-1574014409</td>\n      <td>NaN</td>\n    </tr>\n    <tr>\n      <th>3</th>\n      <td>[{'id': '4bf58dd8d48988d1fa931735', 'name': 'H...</td>\n      <td>False</td>\n      <td>NaN</td>\n      <td>4f343a31e4b0230a3b337a90</td>\n      <td>123 Test Drive</td>\n      <td>CA</td>\n      <td>Toronto</td>\n      <td>Canada</td>\n      <td>at somewhere St</td>\n      <td>500</td>\n      <td>[123 Test Drive (at somewhere St), Toronto ON ...</td>\n      <td>[{'label': 'display', 'lat': 43.658434, 'lng':...</td>\n      <td>43.658434</td>\n      <td>-79.387894</td>\n      <td>NaN</td>\n      <td>M2M 2M2</td>\n      <td>ON</td>\n      <td>VFM Test Hotel</td>\n      <td>v-1574014409</td>\n      <td>NaN</td>\n    </tr>\n    <tr>\n      <th>4</th>\n      <td>[{'id': '56aa371be4b08b9a8d5734cf', 'name': 'B...</td>\n      <td>False</td>\n      <td>[]</td>\n      <td>5545d07e498e2facac03f666</td>\n      <td>123 Queen Street West</td>\n      <td>CA</td>\n      <td>Toronto</td>\n      <td>Canada</td>\n      <td>at Bay Street</td>\n      <td>376</td>\n      <td>[123 Queen Street West (at Bay Street), Toront...</td>\n      <td>[{'label': 'display', 'lat': 43.65119976208405...</td>\n      <td>43.651200</td>\n      <td>-79.384520</td>\n      <td>Financial District</td>\n      <td>NaN</td>\n      <td>ON</td>\n      <td>Sheraton Centre Toronto Hotel - Grand Ballroom</td>\n      <td>v-1574014409</td>\n      <td>NaN</td>\n    </tr>\n  </tbody>\n</table>\n</div>",
                        "text/plain": "                                          categories  hasPerk hierarchy  \\\n0  [{'id': '4bf58dd8d48988d1fa931735', 'name': 'H...    False       NaN   \n1  [{'id': '4bf58dd8d48988d1e7931735', 'name': 'J...    False       NaN   \n2  [{'id': '4bf58dd8d48988d1fa931735', 'name': 'H...    False       NaN   \n3  [{'id': '4bf58dd8d48988d1fa931735', 'name': 'H...    False       NaN   \n4  [{'id': '56aa371be4b08b9a8d5734cf', 'name': 'B...    False        []   \n\n                         id       location.address location.cc location.city  \\\n0  4ab2d511f964a5209b6c20e3  123 Queen Street West          CA       Toronto   \n1  4b68aed1f964a520de862be3         194 Queen St W          CA       Toronto   \n2  52ce14b0498e50457ce11780    108 Chestnut Street          CA       Toronto   \n3  4f343a31e4b0230a3b337a90         123 Test Drive          CA       Toronto   \n4  5545d07e498e2facac03f666  123 Queen Street West          CA       Toronto   \n\n  location.country location.crossStreet  location.distance  \\\n0           Canada          at York St.                390   \n1           Canada  Queen & St. Patrick                400   \n2           Canada          Dundas St W                124   \n3           Canada      at somewhere St                500   \n4           Canada        at Bay Street                376   \n\n                           location.formattedAddress  \\\n0  [123 Queen Street West (at York St.), Toronto ...   \n1  [194 Queen St W (Queen & St. Patrick), Toronto...   \n2  [108 Chestnut Street (Dundas St W), Toronto ON...   \n3  [123 Test Drive (at somewhere St), Toronto ON ...   \n4  [123 Queen Street West (at Bay Street), Toront...   \n\n                             location.labeledLatLngs  location.lat  \\\n0  [{'label': 'display', 'lat': 43.6511441, 'lng'...     43.651144   \n1  [{'label': 'display', 'lat': 43.65050475544005...     43.650505   \n2  [{'label': 'display', 'lat': 43.6546083, 'lng'...     43.654608   \n3  [{'label': 'display', 'lat': 43.658434, 'lng':...     43.658434   \n4  [{'label': 'display', 'lat': 43.65119976208405...     43.651200   \n\n   location.lng location.neighborhood location.postalCode location.state  \\\n0    -79.384329                   NaN             M5H 2M9             ON   \n1    -79.388577                   NaN             M5V 1Z1             ON   \n2    -79.385942                   NaN             M5G 1R3             ON   \n3    -79.387894                   NaN             M2M 2M2             ON   \n4    -79.384520    Financial District                 NaN             ON   \n\n                                             name    referralId venuePage.id  \n0                   Sheraton Centre Toronto Hotel  v-1574014409          NaN  \n1                  The Rex Hotel Jazz & Blues Bar  v-1574014409     62225795  \n2     DoubleTree by Hilton Hotel Toronto Downtown  v-1574014409          NaN  \n3                                  VFM Test Hotel  v-1574014409          NaN  \n4  Sheraton Centre Toronto Hotel - Grand Ballroom  v-1574014409          NaN  "
                    },
                    "execution_count": 54,
                    "metadata": {},
                    "output_type": "execute_result"
                }
            ],
            "source": "# assign relevant part of JSON to venues\nvenues = results['response']['venues']\n\n# tranform venues into a dataframe\ndataframe = json_normalize(venues)\ndataframe.head()"
        },
        {
            "cell_type": "markdown",
            "metadata": {},
            "source": " # Clean Hotel Dataframe"
        },
        {
            "cell_type": "code",
            "execution_count": 55,
            "metadata": {},
            "outputs": [
                {
                    "data": {
                        "text/html": "<div>\n<style scoped>\n    .dataframe tbody tr th:only-of-type {\n        vertical-align: middle;\n    }\n\n    .dataframe tbody tr th {\n        vertical-align: top;\n    }\n\n    .dataframe thead th {\n        text-align: right;\n    }\n</style>\n<table border=\"1\" class=\"dataframe\">\n  <thead>\n    <tr style=\"text-align: right;\">\n      <th></th>\n      <th>name</th>\n      <th>categories</th>\n      <th>address</th>\n      <th>cc</th>\n      <th>city</th>\n      <th>country</th>\n      <th>crossStreet</th>\n      <th>distance</th>\n      <th>formattedAddress</th>\n      <th>labeledLatLngs</th>\n      <th>lat</th>\n      <th>lng</th>\n      <th>neighborhood</th>\n      <th>postalCode</th>\n      <th>state</th>\n      <th>id</th>\n    </tr>\n  </thead>\n  <tbody>\n    <tr>\n      <th>0</th>\n      <td>Sheraton Centre Toronto Hotel</td>\n      <td>Hotel</td>\n      <td>123 Queen Street West</td>\n      <td>CA</td>\n      <td>Toronto</td>\n      <td>Canada</td>\n      <td>at York St.</td>\n      <td>390</td>\n      <td>[123 Queen Street West (at York St.), Toronto ...</td>\n      <td>[{'label': 'display', 'lat': 43.6511441, 'lng'...</td>\n      <td>43.651144</td>\n      <td>-79.384329</td>\n      <td>NaN</td>\n      <td>M5H 2M9</td>\n      <td>ON</td>\n      <td>4ab2d511f964a5209b6c20e3</td>\n    </tr>\n    <tr>\n      <th>1</th>\n      <td>The Rex Hotel Jazz &amp; Blues Bar</td>\n      <td>Jazz Club</td>\n      <td>194 Queen St W</td>\n      <td>CA</td>\n      <td>Toronto</td>\n      <td>Canada</td>\n      <td>Queen &amp; St. Patrick</td>\n      <td>400</td>\n      <td>[194 Queen St W (Queen &amp; St. Patrick), Toronto...</td>\n      <td>[{'label': 'display', 'lat': 43.65050475544005...</td>\n      <td>43.650505</td>\n      <td>-79.388577</td>\n      <td>NaN</td>\n      <td>M5V 1Z1</td>\n      <td>ON</td>\n      <td>4b68aed1f964a520de862be3</td>\n    </tr>\n    <tr>\n      <th>2</th>\n      <td>DoubleTree by Hilton Hotel Toronto Downtown</td>\n      <td>Hotel</td>\n      <td>108 Chestnut Street</td>\n      <td>CA</td>\n      <td>Toronto</td>\n      <td>Canada</td>\n      <td>Dundas St W</td>\n      <td>124</td>\n      <td>[108 Chestnut Street (Dundas St W), Toronto ON...</td>\n      <td>[{'label': 'display', 'lat': 43.6546083, 'lng'...</td>\n      <td>43.654608</td>\n      <td>-79.385942</td>\n      <td>NaN</td>\n      <td>M5G 1R3</td>\n      <td>ON</td>\n      <td>52ce14b0498e50457ce11780</td>\n    </tr>\n    <tr>\n      <th>3</th>\n      <td>VFM Test Hotel</td>\n      <td>Hotel</td>\n      <td>123 Test Drive</td>\n      <td>CA</td>\n      <td>Toronto</td>\n      <td>Canada</td>\n      <td>at somewhere St</td>\n      <td>500</td>\n      <td>[123 Test Drive (at somewhere St), Toronto ON ...</td>\n      <td>[{'label': 'display', 'lat': 43.658434, 'lng':...</td>\n      <td>43.658434</td>\n      <td>-79.387894</td>\n      <td>NaN</td>\n      <td>M2M 2M2</td>\n      <td>ON</td>\n      <td>4f343a31e4b0230a3b337a90</td>\n    </tr>\n    <tr>\n      <th>4</th>\n      <td>Sheraton Centre Toronto Hotel - Grand Ballroom</td>\n      <td>Ballroom</td>\n      <td>123 Queen Street West</td>\n      <td>CA</td>\n      <td>Toronto</td>\n      <td>Canada</td>\n      <td>at Bay Street</td>\n      <td>376</td>\n      <td>[123 Queen Street West (at Bay Street), Toront...</td>\n      <td>[{'label': 'display', 'lat': 43.65119976208405...</td>\n      <td>43.651200</td>\n      <td>-79.384520</td>\n      <td>Financial District</td>\n      <td>NaN</td>\n      <td>ON</td>\n      <td>5545d07e498e2facac03f666</td>\n    </tr>\n  </tbody>\n</table>\n</div>",
                        "text/plain": "                                             name categories  \\\n0                   Sheraton Centre Toronto Hotel      Hotel   \n1                  The Rex Hotel Jazz & Blues Bar  Jazz Club   \n2     DoubleTree by Hilton Hotel Toronto Downtown      Hotel   \n3                                  VFM Test Hotel      Hotel   \n4  Sheraton Centre Toronto Hotel - Grand Ballroom   Ballroom   \n\n                 address  cc     city country          crossStreet  distance  \\\n0  123 Queen Street West  CA  Toronto  Canada          at York St.       390   \n1         194 Queen St W  CA  Toronto  Canada  Queen & St. Patrick       400   \n2    108 Chestnut Street  CA  Toronto  Canada          Dundas St W       124   \n3         123 Test Drive  CA  Toronto  Canada      at somewhere St       500   \n4  123 Queen Street West  CA  Toronto  Canada        at Bay Street       376   \n\n                                    formattedAddress  \\\n0  [123 Queen Street West (at York St.), Toronto ...   \n1  [194 Queen St W (Queen & St. Patrick), Toronto...   \n2  [108 Chestnut Street (Dundas St W), Toronto ON...   \n3  [123 Test Drive (at somewhere St), Toronto ON ...   \n4  [123 Queen Street West (at Bay Street), Toront...   \n\n                                      labeledLatLngs        lat        lng  \\\n0  [{'label': 'display', 'lat': 43.6511441, 'lng'...  43.651144 -79.384329   \n1  [{'label': 'display', 'lat': 43.65050475544005...  43.650505 -79.388577   \n2  [{'label': 'display', 'lat': 43.6546083, 'lng'...  43.654608 -79.385942   \n3  [{'label': 'display', 'lat': 43.658434, 'lng':...  43.658434 -79.387894   \n4  [{'label': 'display', 'lat': 43.65119976208405...  43.651200 -79.384520   \n\n         neighborhood postalCode state                        id  \n0                 NaN    M5H 2M9    ON  4ab2d511f964a5209b6c20e3  \n1                 NaN    M5V 1Z1    ON  4b68aed1f964a520de862be3  \n2                 NaN    M5G 1R3    ON  52ce14b0498e50457ce11780  \n3                 NaN    M2M 2M2    ON  4f343a31e4b0230a3b337a90  \n4  Financial District        NaN    ON  5545d07e498e2facac03f666  "
                    },
                    "execution_count": 55,
                    "metadata": {},
                    "output_type": "execute_result"
                }
            ],
            "source": "# keep only columns that include venue name, and anything that is associated with location\nclean_columns = ['name', 'categories'] + [col for col in dataframe.columns if col.startswith('location.')]+ ['id']\nclean_dataframe = dataframe.loc[:,clean_columns]\n\n# function that extracts the category of the venue\ndef get_category_type(row):\n    try:\n        categories_list = row['categories']\n    except:\n        categories_list = row['venue.categories']\n        \n    if len(categories_list) == 0:\n        return None\n    else:\n        return categories_list[0]['name']\n\n# filter the category for each row\nclean_dataframe['categories'] = clean_dataframe.apply(get_category_type, axis=1)\n\n# clean column names by keeping only last term\nclean_dataframe.columns = [column.split('.')[-1] for column in clean_dataframe.columns]\n\nclean_dataframe.head()\n"
        },
        {
            "cell_type": "code",
            "execution_count": 56,
            "metadata": {},
            "outputs": [
                {
                    "data": {
                        "text/html": "<div>\n<style scoped>\n    .dataframe tbody tr th:only-of-type {\n        vertical-align: middle;\n    }\n\n    .dataframe tbody tr th {\n        vertical-align: top;\n    }\n\n    .dataframe thead th {\n        text-align: right;\n    }\n</style>\n<table border=\"1\" class=\"dataframe\">\n  <thead>\n    <tr style=\"text-align: right;\">\n      <th></th>\n      <th>name</th>\n      <th>categories</th>\n      <th>address</th>\n      <th>lat</th>\n      <th>lng</th>\n      <th>postalCode</th>\n      <th>state</th>\n    </tr>\n  </thead>\n  <tbody>\n    <tr>\n      <th>0</th>\n      <td>Sheraton Centre Toronto Hotel</td>\n      <td>Hotel</td>\n      <td>123 Queen Street West</td>\n      <td>43.651144</td>\n      <td>-79.384329</td>\n      <td>M5H 2M9</td>\n      <td>ON</td>\n    </tr>\n    <tr>\n      <th>1</th>\n      <td>The Rex Hotel Jazz &amp; Blues Bar</td>\n      <td>Jazz Club</td>\n      <td>194 Queen St W</td>\n      <td>43.650505</td>\n      <td>-79.388577</td>\n      <td>M5V 1Z1</td>\n      <td>ON</td>\n    </tr>\n    <tr>\n      <th>2</th>\n      <td>DoubleTree by Hilton Hotel Toronto Downtown</td>\n      <td>Hotel</td>\n      <td>108 Chestnut Street</td>\n      <td>43.654608</td>\n      <td>-79.385942</td>\n      <td>M5G 1R3</td>\n      <td>ON</td>\n    </tr>\n    <tr>\n      <th>3</th>\n      <td>VFM Test Hotel</td>\n      <td>Hotel</td>\n      <td>123 Test Drive</td>\n      <td>43.658434</td>\n      <td>-79.387894</td>\n      <td>M2M 2M2</td>\n      <td>ON</td>\n    </tr>\n    <tr>\n      <th>4</th>\n      <td>Sheraton Centre Toronto Hotel - Grand Ballroom</td>\n      <td>Ballroom</td>\n      <td>123 Queen Street West</td>\n      <td>43.651200</td>\n      <td>-79.384520</td>\n      <td>NaN</td>\n      <td>ON</td>\n    </tr>\n    <tr>\n      <th>5</th>\n      <td>Stathcona Hotel</td>\n      <td>Hotel</td>\n      <td>NaN</td>\n      <td>43.654947</td>\n      <td>-79.386359</td>\n      <td>NaN</td>\n      <td>ON</td>\n    </tr>\n    <tr>\n      <th>6</th>\n      <td>hilton hotel, richmondstreet E, 145,  toronto</td>\n      <td>Hotel Pool</td>\n      <td>Richmondstreet E, 145</td>\n      <td>43.650625</td>\n      <td>-79.385488</td>\n      <td>NaN</td>\n      <td>ON</td>\n    </tr>\n    <tr>\n      <th>7</th>\n      <td>Sheraton Centre Hotel Club Lounge</td>\n      <td>Lounge</td>\n      <td>NaN</td>\n      <td>43.651063</td>\n      <td>-79.384527</td>\n      <td>M5H 2M9</td>\n      <td>ON</td>\n    </tr>\n    <tr>\n      <th>8</th>\n      <td>650 Hotel</td>\n      <td>Hotel</td>\n      <td>650 Bay Street</td>\n      <td>43.657046</td>\n      <td>-79.384411</td>\n      <td>NaN</td>\n      <td>ON</td>\n    </tr>\n    <tr>\n      <th>9</th>\n      <td>Be SixFifty Hotel</td>\n      <td>Hotel</td>\n      <td>650 Bay Street</td>\n      <td>43.657120</td>\n      <td>-79.384560</td>\n      <td>NaN</td>\n      <td>ON</td>\n    </tr>\n    <tr>\n      <th>10</th>\n      <td>Marriott Downtown at CF Toronto Eaton Centre</td>\n      <td>Hotel</td>\n      <td>525 Bay Street</td>\n      <td>43.654728</td>\n      <td>-79.382422</td>\n      <td>M5G 2L2</td>\n      <td>ON</td>\n    </tr>\n    <tr>\n      <th>11</th>\n      <td>Shangri-La Toronto</td>\n      <td>Hotel</td>\n      <td>188 University Ave.</td>\n      <td>43.649129</td>\n      <td>-79.386557</td>\n      <td>M5H 0A3</td>\n      <td>ON</td>\n    </tr>\n    <tr>\n      <th>12</th>\n      <td>Hilton Toronto</td>\n      <td>Hotel</td>\n      <td>145 Richmond St W</td>\n      <td>43.649946</td>\n      <td>-79.385479</td>\n      <td>M5H 2L2</td>\n      <td>ON</td>\n    </tr>\n    <tr>\n      <th>13</th>\n      <td>89 Chestnut Residence</td>\n      <td>College Residence Hall</td>\n      <td>89 Chestnut St.</td>\n      <td>43.654160</td>\n      <td>-79.385291</td>\n      <td>M5G 1R1</td>\n      <td>ON</td>\n    </tr>\n    <tr>\n      <th>14</th>\n      <td>Op mijn hotelkamer In Toronto</td>\n      <td>Hotel</td>\n      <td>NaN</td>\n      <td>43.654235</td>\n      <td>-79.386208</td>\n      <td>NaN</td>\n      <td>ON</td>\n    </tr>\n    <tr>\n      <th>15</th>\n      <td>Fitness Centre</td>\n      <td>Gym</td>\n      <td>525 Bay St.</td>\n      <td>43.654690</td>\n      <td>-79.381739</td>\n      <td>M5G 2L2</td>\n      <td>ON</td>\n    </tr>\n    <tr>\n      <th>16</th>\n      <td>Lobby Lounge at the Shangri-La Toronto</td>\n      <td>Lounge</td>\n      <td>188 University Ave.</td>\n      <td>43.649155</td>\n      <td>-79.386546</td>\n      <td>M5H 0A3</td>\n      <td>ON</td>\n    </tr>\n    <tr>\n      <th>17</th>\n      <td>Pool</td>\n      <td>Pool</td>\n      <td>Intercontinental</td>\n      <td>43.650975</td>\n      <td>-79.384053</td>\n      <td>NaN</td>\n      <td>Ontario</td>\n    </tr>\n    <tr>\n      <th>18</th>\n      <td>Bistro on Two</td>\n      <td>Breakfast Spot</td>\n      <td>123 Queen St. W</td>\n      <td>43.651011</td>\n      <td>-79.383658</td>\n      <td>M5H 2M9</td>\n      <td>ON</td>\n    </tr>\n    <tr>\n      <th>19</th>\n      <td>Kumar For Men</td>\n      <td>Men's Store</td>\n      <td>Sheraton Centre</td>\n      <td>43.651044</td>\n      <td>-79.383302</td>\n      <td>M5H 2M9</td>\n      <td>ON</td>\n    </tr>\n    <tr>\n      <th>20</th>\n      <td>Grand Ballroom</td>\n      <td>Event Space</td>\n      <td>123 Queen St. W</td>\n      <td>43.651217</td>\n      <td>-79.383771</td>\n      <td>M5H 2M9</td>\n      <td>ON</td>\n    </tr>\n    <tr>\n      <th>21</th>\n      <td>Fitness Centre</td>\n      <td>Gym</td>\n      <td>Sheraton Centre</td>\n      <td>43.650985</td>\n      <td>-79.384002</td>\n      <td>M5H 2M9</td>\n      <td>ON</td>\n    </tr>\n  </tbody>\n</table>\n</div>",
                        "text/plain": "                                              name              categories  \\\n0                    Sheraton Centre Toronto Hotel                   Hotel   \n1                   The Rex Hotel Jazz & Blues Bar               Jazz Club   \n2      DoubleTree by Hilton Hotel Toronto Downtown                   Hotel   \n3                                   VFM Test Hotel                   Hotel   \n4   Sheraton Centre Toronto Hotel - Grand Ballroom                Ballroom   \n5                                  Stathcona Hotel                   Hotel   \n6    hilton hotel, richmondstreet E, 145,  toronto              Hotel Pool   \n7                Sheraton Centre Hotel Club Lounge                  Lounge   \n8                                        650 Hotel                   Hotel   \n9                                Be SixFifty Hotel                   Hotel   \n10    Marriott Downtown at CF Toronto Eaton Centre                   Hotel   \n11                              Shangri-La Toronto                   Hotel   \n12                                  Hilton Toronto                   Hotel   \n13                           89 Chestnut Residence  College Residence Hall   \n14                   Op mijn hotelkamer In Toronto                   Hotel   \n15                                  Fitness Centre                     Gym   \n16          Lobby Lounge at the Shangri-La Toronto                  Lounge   \n17                                            Pool                    Pool   \n18                                   Bistro on Two          Breakfast Spot   \n19                                   Kumar For Men             Men's Store   \n20                                  Grand Ballroom             Event Space   \n21                                  Fitness Centre                     Gym   \n\n                  address        lat        lng postalCode    state  \n0   123 Queen Street West  43.651144 -79.384329    M5H 2M9       ON  \n1          194 Queen St W  43.650505 -79.388577    M5V 1Z1       ON  \n2     108 Chestnut Street  43.654608 -79.385942    M5G 1R3       ON  \n3          123 Test Drive  43.658434 -79.387894    M2M 2M2       ON  \n4   123 Queen Street West  43.651200 -79.384520        NaN       ON  \n5                     NaN  43.654947 -79.386359        NaN       ON  \n6   Richmondstreet E, 145  43.650625 -79.385488        NaN       ON  \n7                     NaN  43.651063 -79.384527    M5H 2M9       ON  \n8          650 Bay Street  43.657046 -79.384411        NaN       ON  \n9          650 Bay Street  43.657120 -79.384560        NaN       ON  \n10         525 Bay Street  43.654728 -79.382422    M5G 2L2       ON  \n11    188 University Ave.  43.649129 -79.386557    M5H 0A3       ON  \n12      145 Richmond St W  43.649946 -79.385479    M5H 2L2       ON  \n13        89 Chestnut St.  43.654160 -79.385291    M5G 1R1       ON  \n14                    NaN  43.654235 -79.386208        NaN       ON  \n15            525 Bay St.  43.654690 -79.381739    M5G 2L2       ON  \n16    188 University Ave.  43.649155 -79.386546    M5H 0A3       ON  \n17       Intercontinental  43.650975 -79.384053        NaN  Ontario  \n18        123 Queen St. W  43.651011 -79.383658    M5H 2M9       ON  \n19        Sheraton Centre  43.651044 -79.383302    M5H 2M9       ON  \n20        123 Queen St. W  43.651217 -79.383771    M5H 2M9       ON  \n21        Sheraton Centre  43.650985 -79.384002    M5H 2M9       ON  "
                    },
                    "execution_count": 56,
                    "metadata": {},
                    "output_type": "execute_result"
                }
            ],
            "source": "# delete unnecessary columns\nclean_dataframe2= clean_dataframe.drop(['cc', 'city', 'country', 'crossStreet', 'distance', 'formattedAddress',\\\n                                        'labeledLatLngs','neighborhood', 'id'], axis=1)\nclean_dataframe2"
        },
        {
            "cell_type": "code",
            "execution_count": 57,
            "metadata": {},
            "outputs": [
                {
                    "data": {
                        "text/html": "<div>\n<style scoped>\n    .dataframe tbody tr th:only-of-type {\n        vertical-align: middle;\n    }\n\n    .dataframe tbody tr th {\n        vertical-align: top;\n    }\n\n    .dataframe thead th {\n        text-align: right;\n    }\n</style>\n<table border=\"1\" class=\"dataframe\">\n  <thead>\n    <tr style=\"text-align: right;\">\n      <th></th>\n      <th>name</th>\n      <th>categories</th>\n      <th>address</th>\n      <th>lat</th>\n      <th>lng</th>\n      <th>postalCode</th>\n      <th>state</th>\n    </tr>\n  </thead>\n  <tbody>\n    <tr>\n      <th>0</th>\n      <td>Sheraton Centre Toronto Hotel</td>\n      <td>Hotel</td>\n      <td>123 Queen Street West</td>\n      <td>43.651144</td>\n      <td>-79.384329</td>\n      <td>M5H 2M9</td>\n      <td>ON</td>\n    </tr>\n    <tr>\n      <th>1</th>\n      <td>The Rex Hotel Jazz &amp; Blues Bar</td>\n      <td>Jazz Club</td>\n      <td>194 Queen St W</td>\n      <td>43.650505</td>\n      <td>-79.388577</td>\n      <td>M5V 1Z1</td>\n      <td>ON</td>\n    </tr>\n    <tr>\n      <th>2</th>\n      <td>DoubleTree by Hilton Hotel Toronto Downtown</td>\n      <td>Hotel</td>\n      <td>108 Chestnut Street</td>\n      <td>43.654608</td>\n      <td>-79.385942</td>\n      <td>M5G 1R3</td>\n      <td>ON</td>\n    </tr>\n    <tr>\n      <th>3</th>\n      <td>VFM Test Hotel</td>\n      <td>Hotel</td>\n      <td>123 Test Drive</td>\n      <td>43.658434</td>\n      <td>-79.387894</td>\n      <td>M2M 2M2</td>\n      <td>ON</td>\n    </tr>\n    <tr>\n      <th>10</th>\n      <td>Marriott Downtown at CF Toronto Eaton Centre</td>\n      <td>Hotel</td>\n      <td>525 Bay Street</td>\n      <td>43.654728</td>\n      <td>-79.382422</td>\n      <td>M5G 2L2</td>\n      <td>ON</td>\n    </tr>\n    <tr>\n      <th>11</th>\n      <td>Shangri-La Toronto</td>\n      <td>Hotel</td>\n      <td>188 University Ave.</td>\n      <td>43.649129</td>\n      <td>-79.386557</td>\n      <td>M5H 0A3</td>\n      <td>ON</td>\n    </tr>\n    <tr>\n      <th>12</th>\n      <td>Hilton Toronto</td>\n      <td>Hotel</td>\n      <td>145 Richmond St W</td>\n      <td>43.649946</td>\n      <td>-79.385479</td>\n      <td>M5H 2L2</td>\n      <td>ON</td>\n    </tr>\n    <tr>\n      <th>13</th>\n      <td>89 Chestnut Residence</td>\n      <td>College Residence Hall</td>\n      <td>89 Chestnut St.</td>\n      <td>43.654160</td>\n      <td>-79.385291</td>\n      <td>M5G 1R1</td>\n      <td>ON</td>\n    </tr>\n    <tr>\n      <th>15</th>\n      <td>Fitness Centre</td>\n      <td>Gym</td>\n      <td>525 Bay St.</td>\n      <td>43.654690</td>\n      <td>-79.381739</td>\n      <td>M5G 2L2</td>\n      <td>ON</td>\n    </tr>\n    <tr>\n      <th>16</th>\n      <td>Lobby Lounge at the Shangri-La Toronto</td>\n      <td>Lounge</td>\n      <td>188 University Ave.</td>\n      <td>43.649155</td>\n      <td>-79.386546</td>\n      <td>M5H 0A3</td>\n      <td>ON</td>\n    </tr>\n    <tr>\n      <th>18</th>\n      <td>Bistro on Two</td>\n      <td>Breakfast Spot</td>\n      <td>123 Queen St. W</td>\n      <td>43.651011</td>\n      <td>-79.383658</td>\n      <td>M5H 2M9</td>\n      <td>ON</td>\n    </tr>\n    <tr>\n      <th>19</th>\n      <td>Kumar For Men</td>\n      <td>Men's Store</td>\n      <td>Sheraton Centre</td>\n      <td>43.651044</td>\n      <td>-79.383302</td>\n      <td>M5H 2M9</td>\n      <td>ON</td>\n    </tr>\n    <tr>\n      <th>20</th>\n      <td>Grand Ballroom</td>\n      <td>Event Space</td>\n      <td>123 Queen St. W</td>\n      <td>43.651217</td>\n      <td>-79.383771</td>\n      <td>M5H 2M9</td>\n      <td>ON</td>\n    </tr>\n    <tr>\n      <th>21</th>\n      <td>Fitness Centre</td>\n      <td>Gym</td>\n      <td>Sheraton Centre</td>\n      <td>43.650985</td>\n      <td>-79.384002</td>\n      <td>M5H 2M9</td>\n      <td>ON</td>\n    </tr>\n  </tbody>\n</table>\n</div>",
                        "text/plain": "                                            name              categories  \\\n0                  Sheraton Centre Toronto Hotel                   Hotel   \n1                 The Rex Hotel Jazz & Blues Bar               Jazz Club   \n2    DoubleTree by Hilton Hotel Toronto Downtown                   Hotel   \n3                                 VFM Test Hotel                   Hotel   \n10  Marriott Downtown at CF Toronto Eaton Centre                   Hotel   \n11                            Shangri-La Toronto                   Hotel   \n12                                Hilton Toronto                   Hotel   \n13                         89 Chestnut Residence  College Residence Hall   \n15                                Fitness Centre                     Gym   \n16        Lobby Lounge at the Shangri-La Toronto                  Lounge   \n18                                 Bistro on Two          Breakfast Spot   \n19                                 Kumar For Men             Men's Store   \n20                                Grand Ballroom             Event Space   \n21                                Fitness Centre                     Gym   \n\n                  address        lat        lng postalCode state  \n0   123 Queen Street West  43.651144 -79.384329    M5H 2M9    ON  \n1          194 Queen St W  43.650505 -79.388577    M5V 1Z1    ON  \n2     108 Chestnut Street  43.654608 -79.385942    M5G 1R3    ON  \n3          123 Test Drive  43.658434 -79.387894    M2M 2M2    ON  \n10         525 Bay Street  43.654728 -79.382422    M5G 2L2    ON  \n11    188 University Ave.  43.649129 -79.386557    M5H 0A3    ON  \n12      145 Richmond St W  43.649946 -79.385479    M5H 2L2    ON  \n13        89 Chestnut St.  43.654160 -79.385291    M5G 1R1    ON  \n15            525 Bay St.  43.654690 -79.381739    M5G 2L2    ON  \n16    188 University Ave.  43.649155 -79.386546    M5H 0A3    ON  \n18        123 Queen St. W  43.651011 -79.383658    M5H 2M9    ON  \n19        Sheraton Centre  43.651044 -79.383302    M5H 2M9    ON  \n20        123 Queen St. W  43.651217 -79.383771    M5H 2M9    ON  \n21        Sheraton Centre  43.650985 -79.384002    M5H 2M9    ON  "
                    },
                    "execution_count": 57,
                    "metadata": {},
                    "output_type": "execute_result"
                }
            ],
            "source": "# delete rows with none values\nclean_dataframe3 = clean_dataframe2.dropna(axis=0, how='any', thresh=None, subset=None, inplace=False)\nclean_dataframe3"
        },
        {
            "cell_type": "code",
            "execution_count": 58,
            "metadata": {},
            "outputs": [
                {
                    "data": {
                        "text/html": "<div>\n<style scoped>\n    .dataframe tbody tr th:only-of-type {\n        vertical-align: middle;\n    }\n\n    .dataframe tbody tr th {\n        vertical-align: top;\n    }\n\n    .dataframe thead th {\n        text-align: right;\n    }\n</style>\n<table border=\"1\" class=\"dataframe\">\n  <thead>\n    <tr style=\"text-align: right;\">\n      <th></th>\n      <th>name</th>\n      <th>categories</th>\n      <th>address</th>\n      <th>lat</th>\n      <th>lng</th>\n      <th>postalCode</th>\n      <th>state</th>\n    </tr>\n  </thead>\n  <tbody>\n    <tr>\n      <th>0</th>\n      <td>Sheraton Centre Toronto Hotel</td>\n      <td>Hotel</td>\n      <td>123 Queen Street West</td>\n      <td>43.651144</td>\n      <td>-79.384329</td>\n      <td>M5H 2M9</td>\n      <td>ON</td>\n    </tr>\n    <tr>\n      <th>2</th>\n      <td>DoubleTree by Hilton Hotel Toronto Downtown</td>\n      <td>Hotel</td>\n      <td>108 Chestnut Street</td>\n      <td>43.654608</td>\n      <td>-79.385942</td>\n      <td>M5G 1R3</td>\n      <td>ON</td>\n    </tr>\n    <tr>\n      <th>3</th>\n      <td>VFM Test Hotel</td>\n      <td>Hotel</td>\n      <td>123 Test Drive</td>\n      <td>43.658434</td>\n      <td>-79.387894</td>\n      <td>M2M 2M2</td>\n      <td>ON</td>\n    </tr>\n    <tr>\n      <th>10</th>\n      <td>Marriott Downtown at CF Toronto Eaton Centre</td>\n      <td>Hotel</td>\n      <td>525 Bay Street</td>\n      <td>43.654728</td>\n      <td>-79.382422</td>\n      <td>M5G 2L2</td>\n      <td>ON</td>\n    </tr>\n    <tr>\n      <th>11</th>\n      <td>Shangri-La Toronto</td>\n      <td>Hotel</td>\n      <td>188 University Ave.</td>\n      <td>43.649129</td>\n      <td>-79.386557</td>\n      <td>M5H 0A3</td>\n      <td>ON</td>\n    </tr>\n    <tr>\n      <th>12</th>\n      <td>Hilton Toronto</td>\n      <td>Hotel</td>\n      <td>145 Richmond St W</td>\n      <td>43.649946</td>\n      <td>-79.385479</td>\n      <td>M5H 2L2</td>\n      <td>ON</td>\n    </tr>\n    <tr>\n      <th>20</th>\n      <td>Grand Ballroom</td>\n      <td>Event Space</td>\n      <td>123 Queen St. W</td>\n      <td>43.651217</td>\n      <td>-79.383771</td>\n      <td>M5H 2M9</td>\n      <td>ON</td>\n    </tr>\n  </tbody>\n</table>\n</div>",
                        "text/plain": "                                            name   categories  \\\n0                  Sheraton Centre Toronto Hotel        Hotel   \n2    DoubleTree by Hilton Hotel Toronto Downtown        Hotel   \n3                                 VFM Test Hotel        Hotel   \n10  Marriott Downtown at CF Toronto Eaton Centre        Hotel   \n11                            Shangri-La Toronto        Hotel   \n12                                Hilton Toronto        Hotel   \n20                                Grand Ballroom  Event Space   \n\n                  address        lat        lng postalCode state  \n0   123 Queen Street West  43.651144 -79.384329    M5H 2M9    ON  \n2     108 Chestnut Street  43.654608 -79.385942    M5G 1R3    ON  \n3          123 Test Drive  43.658434 -79.387894    M2M 2M2    ON  \n10         525 Bay Street  43.654728 -79.382422    M5G 2L2    ON  \n11    188 University Ave.  43.649129 -79.386557    M5H 0A3    ON  \n12      145 Richmond St W  43.649946 -79.385479    M5H 2L2    ON  \n20        123 Queen St. W  43.651217 -79.383771    M5H 2M9    ON  "
                    },
                    "execution_count": 58,
                    "metadata": {},
                    "output_type": "execute_result"
                }
            ],
            "source": "# delete rows which its category is not Hotel or Event Space\narray= ['Hotel', 'Event Space']\nhotel_dataframe= clean_dataframe3.loc[clean_dataframe3['categories'].isin(array)]\nhotel_dataframe"
        },
        {
            "cell_type": "code",
            "execution_count": 59,
            "metadata": {},
            "outputs": [
                {
                    "data": {
                        "text/html": "<div>\n<style scoped>\n    .dataframe tbody tr th:only-of-type {\n        vertical-align: middle;\n    }\n\n    .dataframe tbody tr th {\n        vertical-align: top;\n    }\n\n    .dataframe thead th {\n        text-align: right;\n    }\n</style>\n<table border=\"1\" class=\"dataframe\">\n  <thead>\n    <tr style=\"text-align: right;\">\n      <th></th>\n      <th>name</th>\n      <th>categories</th>\n      <th>address</th>\n      <th>lat</th>\n      <th>lng</th>\n      <th>postalCode</th>\n      <th>state</th>\n    </tr>\n  </thead>\n  <tbody>\n    <tr>\n      <th>0</th>\n      <td>Sheraton Centre Toronto Hotel</td>\n      <td>Hotel</td>\n      <td>123 Queen Street West</td>\n      <td>43.651144</td>\n      <td>-79.384329</td>\n      <td>M5H 2M9</td>\n      <td>ON</td>\n    </tr>\n    <tr>\n      <th>2</th>\n      <td>DoubleTree by Hilton Hotel Toronto Downtown</td>\n      <td>Hotel</td>\n      <td>108 Chestnut Street</td>\n      <td>43.654608</td>\n      <td>-79.385942</td>\n      <td>M5G 1R3</td>\n      <td>ON</td>\n    </tr>\n    <tr>\n      <th>3</th>\n      <td>VFM Test Hotel</td>\n      <td>Hotel</td>\n      <td>123 Test Drive</td>\n      <td>43.658434</td>\n      <td>-79.387894</td>\n      <td>M2M 2M2</td>\n      <td>ON</td>\n    </tr>\n    <tr>\n      <th>10</th>\n      <td>Marriott Downtown at CF Toronto Eaton Centre</td>\n      <td>Hotel</td>\n      <td>525 Bay Street</td>\n      <td>43.654728</td>\n      <td>-79.382422</td>\n      <td>M5G 2L2</td>\n      <td>ON</td>\n    </tr>\n    <tr>\n      <th>11</th>\n      <td>Shangri-La Toronto</td>\n      <td>Hotel</td>\n      <td>188 University Ave.</td>\n      <td>43.649129</td>\n      <td>-79.386557</td>\n      <td>M5H 0A3</td>\n      <td>ON</td>\n    </tr>\n    <tr>\n      <th>12</th>\n      <td>Hilton Toronto</td>\n      <td>Hotel</td>\n      <td>145 Richmond St W</td>\n      <td>43.649946</td>\n      <td>-79.385479</td>\n      <td>M5H 2L2</td>\n      <td>ON</td>\n    </tr>\n    <tr>\n      <th>20</th>\n      <td>Grand Ballroom</td>\n      <td>Event Space</td>\n      <td>123 Queen St. W</td>\n      <td>43.651217</td>\n      <td>-79.383771</td>\n      <td>M5H 2M9</td>\n      <td>ON</td>\n    </tr>\n  </tbody>\n</table>\n</div>",
                        "text/plain": "                                            name   categories  \\\n0                  Sheraton Centre Toronto Hotel        Hotel   \n2    DoubleTree by Hilton Hotel Toronto Downtown        Hotel   \n3                                 VFM Test Hotel        Hotel   \n10  Marriott Downtown at CF Toronto Eaton Centre        Hotel   \n11                            Shangri-La Toronto        Hotel   \n12                                Hilton Toronto        Hotel   \n20                                Grand Ballroom  Event Space   \n\n                  address        lat        lng postalCode state  \n0   123 Queen Street West  43.651144 -79.384329    M5H 2M9    ON  \n2     108 Chestnut Street  43.654608 -79.385942    M5G 1R3    ON  \n3          123 Test Drive  43.658434 -79.387894    M2M 2M2    ON  \n10         525 Bay Street  43.654728 -79.382422    M5G 2L2    ON  \n11    188 University Ave.  43.649129 -79.386557    M5H 0A3    ON  \n12      145 Richmond St W  43.649946 -79.385479    M5H 2L2    ON  \n20        123 Queen St. W  43.651217 -79.383771    M5H 2M9    ON  "
                    },
                    "execution_count": 59,
                    "metadata": {},
                    "output_type": "execute_result"
                }
            ],
            "source": "# delete rows which has duplicate hotel's name\ndf_hotels = hotel_dataframe.drop_duplicates(subset='name', keep=\"first\")\ndf_hotels"
        },
        {
            "cell_type": "code",
            "execution_count": 60,
            "metadata": {},
            "outputs": [
                {
                    "data": {
                        "text/html": "<div>\n<style scoped>\n    .dataframe tbody tr th:only-of-type {\n        vertical-align: middle;\n    }\n\n    .dataframe tbody tr th {\n        vertical-align: top;\n    }\n\n    .dataframe thead th {\n        text-align: right;\n    }\n</style>\n<table border=\"1\" class=\"dataframe\">\n  <thead>\n    <tr style=\"text-align: right;\">\n      <th></th>\n      <th>name</th>\n      <th>categories</th>\n      <th>address</th>\n      <th>lat</th>\n      <th>lng</th>\n      <th>postalCode</th>\n      <th>state</th>\n    </tr>\n  </thead>\n  <tbody>\n    <tr>\n      <th>0</th>\n      <td>Sheraton Centre Toronto Hotel</td>\n      <td>Hotel</td>\n      <td>123 Queen Street West</td>\n      <td>43.651144</td>\n      <td>-79.384329</td>\n      <td>M5H 2M9</td>\n      <td>ON</td>\n    </tr>\n    <tr>\n      <th>20</th>\n      <td>Grand Ballroom</td>\n      <td>Event Space</td>\n      <td>123 Queen St. W</td>\n      <td>43.651217</td>\n      <td>-79.383771</td>\n      <td>M5H 2M9</td>\n      <td>ON</td>\n    </tr>\n  </tbody>\n</table>\n</div>",
                        "text/plain": "                             name   categories                address  \\\n0   Sheraton Centre Toronto Hotel        Hotel  123 Queen Street West   \n20                 Grand Ballroom  Event Space        123 Queen St. W   \n\n          lat        lng postalCode state  \n0   43.651144 -79.384329    M5H 2M9    ON  \n20  43.651217 -79.383771    M5H 2M9    ON  "
                    },
                    "execution_count": 60,
                    "metadata": {},
                    "output_type": "execute_result"
                }
            ],
            "source": "# choose the hotel which has the same postalCode with the event space\ndf_hotel = df_hotels[df_hotels.postalCode == 'M5H 2M9']\ndf_hotel"
        },
        {
            "cell_type": "markdown",
            "metadata": {},
            "source": "### Hence we find the Hotel that best our need."
        }
    ],
    "metadata": {
        "kernelspec": {
            "display_name": "Python 3.6",
            "language": "python",
            "name": "python3"
        },
        "language_info": {
            "codemirror_mode": {
                "name": "ipython",
                "version": 3
            },
            "file_extension": ".py",
            "mimetype": "text/x-python",
            "name": "python",
            "nbconvert_exporter": "python",
            "pygments_lexer": "ipython3",
            "version": "3.6.8"
        }
    },
    "nbformat": 4,
    "nbformat_minor": 1
}